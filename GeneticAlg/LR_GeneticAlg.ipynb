{
  "nbformat": 4,
  "nbformat_minor": 0,
  "metadata": {
    "colab": {
      "provenance": [],
      "gpuType": "T4"
    },
    "kernelspec": {
      "name": "python3",
      "display_name": "Python 3"
    },
    "language_info": {
      "name": "python"
    },
    "accelerator": "GPU"
  },
  "cells": [
    {
      "cell_type": "code",
      "execution_count": 1,
      "metadata": {
        "colab": {
          "base_uri": "https://localhost:8080/"
        },
        "id": "4ouob6FyaO2R",
        "outputId": "7588253b-3824-40d3-b278-f8406d0e01ee"
      },
      "outputs": [
        {
          "output_type": "stream",
          "name": "stdout",
          "text": [
            "nvcc: NVIDIA (R) Cuda compiler driver\n",
            "Copyright (c) 2005-2023 NVIDIA Corporation\n",
            "Built on Tue_Aug_15_22:02:13_PDT_2023\n",
            "Cuda compilation tools, release 12.2, V12.2.140\n",
            "Build cuda_12.2.r12.2/compiler.33191640_0\n"
          ]
        }
      ],
      "source": [
        "!nvcc --version"
      ]
    },
    {
      "cell_type": "code",
      "source": [
        "!pip install nvcc4jupyter"
      ],
      "metadata": {
        "colab": {
          "base_uri": "https://localhost:8080/"
        },
        "id": "kjbLO6ImangZ",
        "outputId": "fa933ba3-ae57-42db-f79a-45fd7fa65225"
      },
      "execution_count": 2,
      "outputs": [
        {
          "output_type": "stream",
          "name": "stdout",
          "text": [
            "Collecting nvcc4jupyter\n",
            "  Downloading nvcc4jupyter-1.2.1-py3-none-any.whl.metadata (5.1 kB)\n",
            "Downloading nvcc4jupyter-1.2.1-py3-none-any.whl (10 kB)\n",
            "Installing collected packages: nvcc4jupyter\n",
            "Successfully installed nvcc4jupyter-1.2.1\n"
          ]
        }
      ]
    },
    {
      "cell_type": "code",
      "source": [
        "%load_ext nvcc4jupyter"
      ],
      "metadata": {
        "colab": {
          "base_uri": "https://localhost:8080/"
        },
        "id": "lBQaRpaeanxA",
        "outputId": "ade5ffeb-6925-4e76-80ea-fd759838784b"
      },
      "execution_count": 3,
      "outputs": [
        {
          "output_type": "stream",
          "name": "stdout",
          "text": [
            "Detected platform \"Colab\". Running its setup...\n",
            "Source files will be saved in \"/tmp/tmpja3sym1e\".\n"
          ]
        }
      ]
    },
    {
      "cell_type": "code",
      "source": [
        "%%cuda\n",
        "#include <curand_kernel.h>  // Библиотека для генерации случайных чисел на GPU\n",
        "#include <thrust/device_vector.h>  // Библиотека Thrust для работы с векторами на GPU\n",
        "#include <iostream>\n",
        "#include <vector>\n",
        "#include <cuda_runtime.h>\n",
        "#include <chrono>\n",
        "#include <thrust/host_vector.h>  // Вектор для хост-системы (CPU)\n",
        "#include <thrust/extrema.h>  // Функции для поиска экстремумов (min/max)\n",
        "\n",
        "// Функция приспособленности\n",
        "__device__ float evaluateFitness(const float* coefficients, const float* pointsX, const float* pointsY, int degree, int numPoints) {\n",
        "    float mse = 0.0f;  // Переменная для накопления среднеквадратичной ошибки (Mean Squared Error)\n",
        "    for (int i = 0; i < numPoints; ++i) {\n",
        "        float predictedY = 0.0f;  // Предсказанное значение Y\n",
        "        for (int j = 0; j <= degree; ++j) {\n",
        "            predictedY += coefficients[j] * powf(pointsX[i], j);  // Вычисляем значение полинома\n",
        "        }\n",
        "        float error = predictedY - pointsY[i];  // Разница между предсказанным и реальным значением\n",
        "        mse += error * error;  // Накопление квадрата ошибки\n",
        "    }\n",
        "    return mse / numPoints;  // Возвращаем среднеквадратичную ошибку\n",
        "}\n",
        "\n",
        "// Функция для выбора лучшего индивидуума с помощью турнира (10 случайных)\n",
        "__device__ int tournamentSelection(float* fitness, int populationSize, curandState* state) {\n",
        "    int bestIndividual = -1;\n",
        "    float bestFitness = FLT_MAX;\n",
        "    for (int i = 0; i < 10; ++i) {\n",
        "        int individual = curand(state) % populationSize;\n",
        "        if (fitness[individual] < bestFitness) {\n",
        "            bestFitness = fitness[individual];\n",
        "            bestIndividual = individual;\n",
        "        }\n",
        "    }\n",
        "    return bestIndividual;\n",
        "}\n",
        "\n",
        "// Функция кроссовера для скрещивания двух родителей и создания потомка\n",
        "__device__ void crossover(const float* parent1, const float* parent2, float* child, int degree, curandState* state) {\n",
        "    int crossoverPoint = 1 + (curand(state) % degree);  // Определяем точку кроссовера (где гены будут обмениваться)\n",
        "    for (int i = 0; i < degree + 1; ++i) {\n",
        "        if (i < crossoverPoint) child[i] = parent1[i];  // Гены от первого родителя до точки кроссовера\n",
        "        else  child[i] = parent2[i];  // Гены от второго родителя после точки кроссовера\n",
        "    }\n",
        "}\n",
        "\n",
        "// Функция мутации для изменения генов индивидуума\n",
        "__device__ void mutate(float* individual, int degree, curandState* state) {\n",
        "    for (int i = 0; i <= degree; ++i) individual[i] += curand_uniform(state) - 0.5f;\n",
        "}\n",
        "\n",
        "// Ядро для вычисления приспособленности (fitness) каждого индивидуума в популяции\n",
        "__global__ void geneticAlgorithmKernel(float* population, float* pointsX, float* pointsY, float* fitness, int populationSize, int degree, int numPoints, curandState* states) {\n",
        "    int idx = threadIdx.x + blockDim.x * blockIdx.x;\n",
        "    if (idx < populationSize) {\n",
        "        curand_init(1234, idx, 0, &states[idx]);  // Инициализация генератора случайных чисел для каждого индивидуума\n",
        "        fitness[idx] = evaluateFitness(&population[idx * (degree + 1)], pointsX, pointsY, degree, numPoints);  // Вычисление приспособленности\n",
        "    }\n",
        "}\n",
        "\n",
        "// Ядро для создания нового поколения на основе предыдущего с возможностью мутации\n",
        "__global__ void nextGeneration(float* population, float* newPopulation, float* fitness, int populationSize, int degree, bool applyMutation, curandState* states) {\n",
        "    int idx = threadIdx.x + blockDim.x * blockIdx.x;\n",
        "    if (idx < populationSize) {\n",
        "        curandState localState = states[idx];\n",
        "        int parent1Idx = tournamentSelection(fitness, populationSize, &localState);  // Выбор первого родителя с помощью турнира\n",
        "        int parent2Idx = tournamentSelection(fitness, populationSize, &localState);  // Выбор второго родителя\n",
        "        float* parent1 = &population[parent1Idx * (degree + 1)];  // Указатель на первого родителя\n",
        "        float* parent2 = &population[parent2Idx * (degree + 1)];  // Указатель на второго родителя\n",
        "\n",
        "        float* child = &newPopulation[idx * (degree + 1)];  // Указатель на потомка\n",
        "        crossover(parent1, parent2, child, degree, &localState);  // Выполнение кроссовера для создания потомка\n",
        "        if (applyMutation) {\n",
        "            mutate(child, degree, &localState);  // Выполнение мутации, если это необходимо\n",
        "        }\n",
        "    }\n",
        "}\n",
        "\n",
        "int main() {\n",
        "    setlocale(LC_ALL, \"RU\");\n",
        "    int degree = 4; // Степень полинома\n",
        "    int numPoints = 500; // Количество точек для аппроксимации\n",
        "    int populationSize = 1000; // Размер популяции (количество особей)\n",
        "    int maxGenerations = 1000; // Максимальное количество поколений (итераций)\n",
        "\n",
        "    // Инициализация массивов для точек X и Y\n",
        "    std::vector<float> hostPointsX(numPoints);\n",
        "    std::vector<float> hostPointsY(numPoints);\n",
        "    // Заполняем массивы точек X и Y значениями\n",
        "    for (int i = 0; i < numPoints; ++i) {\n",
        "        hostPointsX[i] = static_cast<float>((i + 1) / 50);\n",
        "        hostPointsY[i] = 5 * hostPointsX[i] * hostPointsX[i] * hostPointsX[i] * hostPointsX[i] +\n",
        "            3 * hostPointsX[i] * hostPointsX[i] * hostPointsX[i] +\n",
        "            1 * hostPointsX[i] * hostPointsX[i] +\n",
        "            2 * hostPointsX[i] + 4;\n",
        "    }\n",
        "    // Инициализация популяции случайными коэффициентами полиномов\n",
        "    std::vector<float> hostPopulation(populationSize * (degree + 1));\n",
        "    for (int i = 0; i < populationSize * (degree + 1); ++i) {\n",
        "        hostPopulation[i] = static_cast<float>(rand()) / RAND_MAX;\n",
        "    }\n",
        "\n",
        "    // Указатели для размещения данных на GPU\n",
        "    float* devicePopulation, * devicePointsX, * devicePointsY, * deviceFitness, * deviceNewPopulation;\n",
        "    cudaMalloc(&devicePopulation, populationSize * (degree + 1) * sizeof(float)); // Память для популяции\n",
        "    cudaMalloc(&deviceNewPopulation, populationSize * (degree + 1) * sizeof(float)); // Память для новой популяции\n",
        "    cudaMalloc(&devicePointsX, numPoints * sizeof(float)); // Память для X\n",
        "    cudaMalloc(&devicePointsY, numPoints * sizeof(float)); // Память для Y\n",
        "    cudaMalloc(&deviceFitness, populationSize * sizeof(float)); // Память для значений приспособленности\n",
        "\n",
        "    // Копируем данные из хоста (CPU) в устройство (GPU)\n",
        "    cudaMemcpy(devicePopulation, hostPopulation.data(), populationSize * (degree + 1) * sizeof(float), cudaMemcpyHostToDevice);\n",
        "    cudaMemcpy(devicePointsX, hostPointsX.data(), numPoints * sizeof(float), cudaMemcpyHostToDevice);\n",
        "    cudaMemcpy(devicePointsY, hostPointsY.data(), numPoints * sizeof(float), cudaMemcpyHostToDevice);\n",
        "\n",
        "    // Создаем генераторы случайных чисел для каждого потока\n",
        "    curandState* deviceStates;\n",
        "    cudaMalloc(&deviceStates, populationSize * sizeof(curandState)); // Память для генераторов случайных чисел\n",
        "\n",
        "    float bestFitness = 1e16f; // Начальное лучшее значение ошибки\n",
        "    std::vector<float> bestCoefficients(degree + 1); // Вектор для хранения лучших коэффициентов полинома\n",
        "    float previousBestFitness = 1e16f; // Переменная для отслеживания предыдущей лучшей ошибки\n",
        "    int generation = 0; // Номер текущего поколения\n",
        "    int repeatCount = 0; // Счетчик повторений одинаковой ошибки\n",
        "\n",
        "    // Таймеры для измерения времени выполнения\n",
        "    cudaEvent_t start, stop;\n",
        "    cudaEventCreate(&start);\n",
        "    cudaEventCreate(&stop);\n",
        "    cudaEventRecord(start);\n",
        "\n",
        "    // Основной цикл поколений\n",
        "    for (generation; generation < maxGenerations; ++generation) {\n",
        "        // Запуск ядра для вычисления приспособленности\n",
        "        geneticAlgorithmKernel<<<populationSize / 1024+1, 1024 >>>(devicePopulation, devicePointsX, devicePointsY, deviceFitness, populationSize, degree, numPoints, deviceStates);\n",
        "        cudaDeviceSynchronize();\n",
        "\n",
        "        // Определяем, нужно ли включать мутацию (если ошибка повторяется 4 раз)\n",
        "        bool applyMutation = (repeatCount >= 4);\n",
        "\n",
        "        // Генерация следующего поколения\n",
        "        nextGeneration << <populationSize/1024+1, 1024 >> > (devicePopulation, deviceNewPopulation, deviceFitness, populationSize, degree, applyMutation, deviceStates);\n",
        "        cudaDeviceSynchronize();\n",
        "\n",
        "        // Копируем обновленную популяцию обратно на хост\n",
        "        cudaMemcpy(hostPopulation.data(), deviceNewPopulation, populationSize * (degree + 1) * sizeof(float), cudaMemcpyDeviceToHost);\n",
        "        cudaMemcpy(devicePopulation, deviceNewPopulation, populationSize * (degree + 1) * sizeof(float), cudaMemcpyHostToDevice);\n",
        "\n",
        "        // Поиск наименьшего значения приспособленности с помощью Thrust\n",
        "        thrust::device_ptr<float> dev_ptr(deviceFitness);\n",
        "        thrust::device_ptr<float> min_ptr = thrust::min_element(dev_ptr, dev_ptr + populationSize);\n",
        "        bestFitness = *min_ptr; // Находим лучшее значение\n",
        "\n",
        "        // Индекс лучшего полинома\n",
        "        int bestIndex = min_ptr - dev_ptr;\n",
        "        // Копируем коэффициенты лучшего полинома\n",
        "        std::copy(hostPopulation.begin() + bestIndex * (degree + 1), hostPopulation.begin() + (bestIndex + 1) * (degree + 1), bestCoefficients.begin());\n",
        "\n",
        "        // Если ошибка не улучшилась, увеличиваем счетчик повторений\n",
        "        if (bestFitness == previousBestFitness) repeatCount++;\n",
        "        else repeatCount = 0; // Сбрасываем счетчик, если ошибка уменьшилась\n",
        "        previousBestFitness = bestFitness; // Обновляем лучшее значение\n",
        "        if (bestFitness < 0.1) break;  // Прерываем цикл, если ошибка достаточно мала\n",
        "    }\n",
        "\n",
        "    cudaEventRecord(stop);\n",
        "    cudaEventSynchronize(stop);\n",
        "    float milliseconds = 0;\n",
        "    cudaEventElapsedTime(&milliseconds, start, stop); // Измеряем время выполнения\n",
        "    std::cout << \"Время выполнения на GPU: \" << milliseconds / 1000.0f << \" секунд\" << std::endl; // Вывод времени\n",
        "\n",
        "    // Вывод лучших коэффициентов полинома\n",
        "    std::cout << \"Лучшие коэффициенты полинома: \";\n",
        "    for (float coeff : bestCoefficients) {\n",
        "        std::cout << coeff << \" \";\n",
        "    }\n",
        "    std::cout << std::endl;\n",
        "    // Вывод лучшего значения приспособленности и количества итераций\n",
        "    std::cout << \"Лучшая приспособленность: \" << bestFitness << std::endl;\n",
        "    std::cout << \"Количество итераций: \" << generation << std::endl;\n",
        "    // Запись результатов в файл\n",
        "\n",
        "\n",
        "    for (int i = 0; i < numPoints; ++i) {\n",
        "        if (i == 0 || hostPointsX[i] != hostPointsX[i-1]) {\n",
        "            float predictedY = 0.0f;\n",
        "            // Вычисляем предсказанные значения Y по найденным коэффициентам\n",
        "            for (int j = 0; j <= degree; ++j) {\n",
        "                predictedY += bestCoefficients[j] * powf(hostPointsX[i], j); // Полином\n",
        "            }\n",
        "            printf(\"x = %f, y = %f, cuda_y = %f\\n\", hostPointsX[i], hostPointsY[i], predictedY);\n",
        "        }\n",
        "\n",
        "    }\n",
        "\n",
        "\n",
        "    cudaFree(devicePopulation);\n",
        "    cudaFree(deviceNewPopulation);\n",
        "    cudaFree(devicePointsX);\n",
        "    cudaFree(devicePointsY);\n",
        "    cudaFree(deviceFitness);\n",
        "    cudaFree(deviceStates);\n",
        "\n",
        "    return 0;\n",
        "}"
      ],
      "metadata": {
        "colab": {
          "base_uri": "https://localhost:8080/"
        },
        "id": "_LjZbAHpfQ-N",
        "outputId": "d7b61967-6b6c-4ffc-d068-96a0ed106082"
      },
      "execution_count": 11,
      "outputs": [
        {
          "output_type": "stream",
          "name": "stdout",
          "text": [
            "Время выполнения на GPU: 2.14349 секунд\n",
            "Лучшие коэффициенты полинома: -1.35926 17.2916 -6.39239 4.22828 4.9339 \n",
            "Лучшая приспособленность: 10.9959\n",
            "Количество итераций: 1000\n",
            "x = 0.000000, y = 4.000000, cuda_y = -1.359264\n",
            "x = 1.000000, y = 15.000000, cuda_y = 18.702084\n",
            "x = 2.000000, y = 116.000000, cuda_y = 120.422852\n",
            "x = 3.000000, y = 505.000000, cuda_y = 506.792938\n",
            "x = 4.000000, y = 1500.000000, cuda_y = 1499.215698\n",
            "x = 5.000000, y = 3539.000000, cuda_y = 3537.508301\n",
            "x = 6.000000, y = 7180.000000, cuda_y = 7179.900391\n",
            "x = 7.000000, y = 13101.000000, cuda_y = 13103.037109\n",
            "x = 8.000000, y = 22100.000000, cuda_y = 22101.974609\n",
            "x = 9.000000, y = 35095.000000, cuda_y = 35090.183594\n",
            "x = 10.000000, y = 53124.000000, cuda_y = 53099.550781\n",
            "\n"
          ]
        }
      ]
    },
    {
      "cell_type": "code",
      "source": [
        "import matplotlib.pyplot as plt\n",
        "\n",
        "x = [i for i in range(11)]\n",
        "true_y = [4, 15, 116, 505, 1500, 3539, 7180, 13101, 22100, 35095, 53124]\n",
        "cuda_y = [-1.359264, 18.702084, 120.422852, 506.792938, 1499.215698, 3537.508301,\n",
        "          7179.900391, 13103.037109, 22101.974609, 35090.183594, 53099.550781]\n",
        "\n",
        "plt.scatter(x, true_y, color='black', label='Original')\n",
        "plt.plot(x, cuda_y, color='orange', label='Cuda')\n",
        "plt.legend()\n",
        "plt.xlabel('X')\n",
        "plt.ylabel('Y')\n",
        "plt.title('GeneticAlg')\n",
        "plt.show()"
      ],
      "metadata": {
        "colab": {
          "base_uri": "https://localhost:8080/",
          "height": 472
        },
        "id": "dSPXuUJsjO8J",
        "outputId": "d227b46e-9ad7-4f2c-847f-85243f9faac7"
      },
      "execution_count": 12,
      "outputs": [
        {
          "output_type": "display_data",
          "data": {
            "text/plain": [
              "<Figure size 640x480 with 1 Axes>"
            ],
            "image/png": "[encoded data removed]"
          },
          "metadata": {}
        }
      ]
    }
  ]
}